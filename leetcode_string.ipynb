{
 "cells": [
  {
   "cell_type": "markdown",
   "metadata": {},
   "source": [
    "# leetcode 58 Given a string s consists of upper/lower-case alphabets and empty space characters ' ', return the length of last word in the string.\n",
    "\n",
    "If the last word does not exist, return 0.\n",
    "\n",
    "Note: A word is defined as a character sequence consists of non-space characters only.\n",
    "\n",
    "Example:\n",
    "\n",
    "Input: \"Hello World\"\n",
    "Output: 5"
   ]
  },
  {
   "cell_type": "code",
   "execution_count": null,
   "metadata": {},
   "outputs": [],
   "source": [
    "def lengthOfLastWord( s):\n",
    "    \n",
    "    return s.strip().split(\" \")[-1]\n",
    "    "
   ]
  },
  {
   "cell_type": "code",
   "execution_count": null,
   "metadata": {},
   "outputs": [],
   "source": [
    "def lengthOfLastWord( s):\n",
    "    l=s.strip()\n",
    "    if len(l)==0:\n",
    "        return 0\n",
    "    else:\n",
    "        return len(l[-1])"
   ]
  },
  {
   "cell_type": "markdown",
   "metadata": {},
   "source": [
    "# leetcode 58 Implement strStr().\n",
    "\n",
    "Return the index of the first occurrence of needle in haystack, or -1 if needle is not part of haystack.\n",
    "\n",
    "Example 1:\n",
    "\n",
    "Input: haystack = \"hello\", needle = \"ll\"\n",
    "Output: 2\n",
    "Example 2:\n",
    "\n",
    "Input: haystack = \"aaaaa\", needle = \"bba\"\n",
    "Output: -1"
   ]
  },
  {
   "cell_type": "code",
   "execution_count": null,
   "metadata": {},
   "outputs": [],
   "source": [
    "def strStr(haystack, needle):\n",
    "    if needle in haystack:\n",
    "           return haystack.index(needle) \n",
    "    else:\n",
    "           return -1"
   ]
  },
  {
   "cell_type": "code",
   "execution_count": null,
   "metadata": {},
   "outputs": [],
   "source": [
    "def strStr(haystack, needle):\n",
    "    if len(needle)==0\n",
    "          return 0\n",
    "    if len(haystack.split(needle)[0])!=len(haystack):\n",
    "         return len(haystack.index(needle)[0])\n",
    "    else:\n",
    "         return -1"
   ]
  },
  {
   "cell_type": "markdown",
   "metadata": {},
   "source": [
    "# leetcode 344 \n",
    "Write a function that reverses a string. The input string is given as an array of characters char[].\n",
    "\n",
    "Do not allocate extra space for another array, you must do this by modifying the input array in-place with O(1) extra memory.\n",
    "\n",
    "You may assume all the characters consist of printable ascii characters.\n",
    "\n",
    " \n",
    "\n",
    "Example 1:\n",
    "\n",
    "Input: [\"h\",\"e\",\"l\",\"l\",\"o\"]\n",
    "Output: [\"o\",\"l\",\"l\",\"e\",\"h\"]\n",
    "Example 2:\n",
    "\n",
    "Input: [\"H\",\"a\",\"n\",\"n\",\"a\",\"h\"]\n",
    "Output: [\"h\",\"a\",\"n\",\"n\",\"a\",\"H\"]"
   ]
  },
  {
   "cell_type": "code",
   "execution_count": null,
   "metadata": {},
   "outputs": [],
   "source": [
    "def reverseString(s):\n",
    "     i = 0\n",
    "        j = len(s) - 1 \n",
    "        while i < j:\n",
    "            s[i], s[j] = s[j], s[i]\n",
    "            i += \n",
    "            j -= 1"
   ]
  },
  {
   "cell_type": "code",
   "execution_count": null,
   "metadata": {},
   "outputs": [],
   "source": [
    "def reverseString(s):\n",
    "       return s[::-1]"
   ]
  },
  {
   "cell_type": "code",
   "execution_count": null,
   "metadata": {},
   "outputs": [],
   "source": [
    "def reverseString(s):\n",
    "       return s[::-1]"
   ]
  },
  {
   "cell_type": "markdown",
   "metadata": {},
   "source": [
    "# 136. Single Number\n",
    "Given a non-empty array of integers, every element appears twice except for one. Find that single one.\n",
    "\n",
    "Note:\n",
    "\n",
    "Your algorithm should have a linear runtime complexity. Could you implement it without using extra memory?\n",
    "\n",
    "Example 1:\n",
    "\n",
    "Input: [2,2,1]\n",
    "Output: 1\n",
    "Example 2:\n",
    "\n",
    "Input: [4,1,2,1,2]\n",
    "Output: 4\n"
   ]
  },
  {
   "cell_type": "code",
   "execution_count": 2,
   "metadata": {},
   "outputs": [],
   "source": [
    " def singleNumber(nums):\n",
    "        \"\"\"\n",
    "        :type nums: List[int]\n",
    "        :rtype: int\n",
    "        \"\"\"\n",
    "        num_new=set(nums)\n",
    "        for i in num_new:\n",
    "            if nums.count(i)==1:\n",
    "               return i "
   ]
  },
  {
   "cell_type": "markdown",
   "metadata": {},
   "source": [
    "# leetcode 242. Valid Anagram\n",
    "Given two strings s and t , write a function to determine if t is an anagram of s.\n",
    "\n",
    "Example 1:\n",
    "\n",
    "Input: s = \"anagram\", t = \"nagaram\"\n",
    "Output: true\n",
    "Example 2:\n",
    "\n",
    "Input: s = \"rat\", t = \"car\"\n",
    "Output: false\n",
    "\n",
    "\n",
    "Example 2:\n",
    "\n",
    "Input: s = \"rat\", t = \"car\"\n",
    "Output: false"
   ]
  },
  {
   "cell_type": "code",
   "execution_count": null,
   "metadata": {},
   "outputs": [],
   "source": [
    "def isAnagram(s, t):\n",
    "        \"\"\"\n",
    "        :type s: str\n",
    "        :type t: str\n",
    "        :rtype: bool\n",
    "        \"\"\"\n",
    "       \n",
    "        dic1={}\n",
    "        dic2={}\n",
    "        if len(s)!=len(t):\n",
    "            return False\n",
    "        else:\n",
    "            for i in s:\n",
    "                dic1[i]=dic1.get(i,0)+1\n",
    "            for j in t:\n",
    "                dic2[j]=dic2.get(j,0)+1\n",
    "          \n",
    "            return dic1==dic2\n",
    "            "
   ]
  },
  {
   "cell_type": "code",
   "execution_count": 2,
   "metadata": {},
   "outputs": [],
   "source": [
    "class Solution(object):\n",
    "    def isAnagram(self, s, t):\n",
    "        \"\"\"\n",
    "        :type s: str\n",
    "        :type t: str\n",
    "        :rtype: bool\n",
    "        \"\"\"\n",
    "        dic1, dic2 = [0]*26, [0]*26\n",
    " \n",
    "        \n",
    "        for item in s:\n",
    "            \n",
    "             dic1[ord(item)-ord('a')] +=  1\n",
    "      \n",
    "        for item in t:\n",
    "             dic2[ord(item)-ord('d')] +=1\n",
    "      \n",
    "        return dic1 == dic2"
   ]
  },
  {
   "cell_type": "code",
   "execution_count": null,
   "metadata": {},
   "outputs": [],
   "source": [
    "def isAnagram(s, t):\n",
    "     return sorted(s) == sorted(t)\n",
    "            "
   ]
  },
  {
   "cell_type": "code",
   "execution_count": 3,
   "metadata": {},
   "outputs": [],
   "source": [
    "def replace_space(string):\n",
    "     return string.replace(\" \",'%20')"
   ]
  },
  {
   "cell_type": "markdown",
   "metadata": {},
   "source": [
    "# leetcode 929. Unique Email Addresses\n",
    "Every email consists of a local name and a domain name, separated by the @ sign.\n",
    "\n",
    "For example, in alice@leetcode.com, alice is the local name, and leetcode.com is the domain name.\n",
    "\n",
    "Besides lowercase letters, these emails may contain '.'s or '+'s.\n",
    "\n",
    "If you add periods ('.') between some characters in the local name part of an email address, mail sent there will be forwarded to the same address without dots in the local name.  For example, \"alice.z@leetcode.com\" and \"alicez@leetcode.com\" forward to the same email address.  (Note that this rule does not apply for domain names.)\n",
    "\n",
    "If you add a plus ('+') in the local name, everything after the first plus sign will be ignored. This allows certain emails to be filtered, for example m.y+name@email.com will be forwarded to my@email.com.  (Again, this rule does not apply for domain names.)\n",
    "\n",
    "It is possible to use both of these rules at the same time.\n",
    "\n",
    "Given a list of emails, we send one email to each address in the list.  How many different addresses actually receive mails? \n",
    "\n",
    " \n",
    "\n",
    "Example 1:\n",
    "\n",
    "Input: [\"test.email+alex@leetcode.com\",\"test.e.mail+bob.cathy@leetcode.com\",\"testemail+david@lee.tcode.com\"]\n",
    "\n",
    "Output: 2\n",
    "Explanation: \"testemail@leetcode.com\" and \"testemail@lee.tcode.com\" actually receive mails"
   ]
  },
  {
   "cell_type": "code",
   "execution_count": 1,
   "metadata": {},
   "outputs": [],
   "source": [
    "def numUniqueEmails( emails):\n",
    "        list=[]\n",
    "        for email in emails:\n",
    "            \n",
    "            local,domain=email.split('@')\n",
    "            if '+' in local:\n",
    "                \n",
    "                local=local[:local.index('+')]\n",
    "            list.append(local.replace('.','')+'@'+domain)\n",
    "        return len(set(list))"
   ]
  },
  {
   "cell_type": "markdown",
   "metadata": {},
   "source": [
    "# leetcode 434 434. Number of Segments in a String\n",
    "\n",
    "Count the number of segments in a string, where a segment is defined to be a contiguous sequence of non-space characters.\n",
    "\n",
    "Please note that the string does not contain any non-printable characters.\n",
    "\n",
    "Example:\n",
    "\n",
    "Input: \"Hello, my name is John\"\n",
    "Output: 5"
   ]
  },
  {
   "cell_type": "code",
   "execution_count": 2,
   "metadata": {},
   "outputs": [],
   "source": [
    "\n",
    "def countSegments( s):\n",
    "        \"\"\"\n",
    "        :type s: str\n",
    "        :rtype: int\n",
    "        \"\"\"\n",
    "       # list=[]\n",
    "       # for i in s.split():\n",
    "           # print i.replace(',','')\n",
    "         #   list.append(i)\n",
    "       # return len(s.split())\n",
    "      \n",
    "        segment_count = 0\n",
    "\n",
    "        for i in range(len(s)):\n",
    "            if (i == 0 or s[i-1] == ' ') and s[i] != ' ':\n",
    "                segment_count += 1\n",
    "\n",
    "        return segment_count"
   ]
  },
  {
   "cell_type": "code",
   "execution_count": 5,
   "metadata": {},
   "outputs": [],
   "source": [
    "def countSegments( s):\n",
    "        \"\"\"\n",
    "        :type s: str\n",
    "        :rtype: int\n",
    "        \"\"\"\n",
    "        return len(s.split())\n",
    "      "
   ]
  },
  {
   "cell_type": "code",
   "execution_count": 53,
   "metadata": {},
   "outputs": [
    {
     "name": "stdout",
     "output_type": "stream",
     "text": [
      "{'how': 3, 'are': 2, 'you': 1, 'and': 3, 'is': 1, 'she': 1, 'they': 1}\n",
      "dict_keys(['how', 'are', 'you', 'and', 'is', 'she', 'they'])\n",
      "[('how', 3), ('and', 3)]\n",
      "[('how', 3), ('and', 3), ('are', 2), ('you', 1), ('is', 1), ('she', 1), ('they', 1)]\n",
      "[('how', 3), ('and', 3)]\n"
     ]
    }
   ],
   "source": [
    "#  3. Given a string of words find the count of words and return the word with the highest frequency.\n",
    "# how are you and how is she and  and how are they\n",
    "# [('how', 3), ('and', 3)]\n",
    "def find_words(strings):\n",
    "    \n",
    "    d=dict()\n",
    "    for string in strings.split():\n",
    "         if string not in d:\n",
    "                d[string]=0\n",
    "         d[string]+=1\n",
    "    print (d)\n",
    "    print (d.keys())\n",
    "    max0=max(d.values())\n",
    "    list1={}\n",
    "    for key, value in d.items():\n",
    "        if value==max0:\n",
    "            list1[key]=value\n",
    "            \n",
    "    print (list(list1.items()))\n",
    "   # dd = list(reversed(sorted(d.items(),key=lambda item:item[1])))\n",
    "    dd=sorted(d.items(), key=lambda item:item[1],reverse=True)\n",
    "    print (dd)\n",
    "    maxfreq = dd[0][1]\n",
    "    ret_list = []\n",
    "    for item in dd:\n",
    "        if item[1]==maxfreq:\n",
    "            ret_list.append(item)\n",
    "    return ret_list\n",
    "            \n",
    "\n",
    "a=\"how are you and how is she and  and how are they\"\n",
    "print(find_words(a))\n"
   ]
  },
  {
   "cell_type": "markdown",
   "metadata": {},
   "source": [
    "# 415. Add Strings\n",
    "Easy\n",
    "\n",
    "\n",
    "Given two non-negative integers num1 and num2 represented as string, return the sum of num1 and num2.\n",
    "\n",
    "Note:\n",
    "\n",
    "The length of both num1 and num2 is < 5100.\n",
    "Both num1 and num2 contains only digits 0-9.\n",
    "Both num1 and num2 does not contain any leading zero.\n",
    "You must not use any built-in BigInteger library or convert the inputs to integer directly.\n",
    "Accepted"
   ]
  },
  {
   "cell_type": "code",
   "execution_count": 2,
   "metadata": {},
   "outputs": [],
   "source": [
    "class Solution(object):\n",
    "    def addStrings(self, num1, num2):\n",
    "        \"\"\"\n",
    "        :type num1: str\n",
    "        :type num2: str\n",
    "        :rtype: str\n",
    "        \"\"\"\n",
    "        i=len(num1)-1\n",
    "        j=len(num2)-1\n",
    "        flag=0\n",
    "        res=\"\"\n",
    "        \n",
    "        while i>=0 or j>=0:\n",
    "          if i>=0: \n",
    "            \n",
    "            flag=flag+int(num1[i])\n",
    "            i=i-1\n",
    "          if j>=0:\n",
    "            flag=flag+int(num2[j])\n",
    "            j=j-1\n",
    "        \n",
    "          if flag<=9:\n",
    "              res=res+str(flag)\n",
    "              flag=0\n",
    "          else:\n",
    "              res=res+str(flag%10)\n",
    "              flag=1\n",
    "       \n",
    "        if flag==1:\n",
    "              res=res+\"1\"\n",
    "\n",
    "        return res[::-1]"
   ]
  },
  {
   "cell_type": "code",
   "execution_count": 3,
   "metadata": {},
   "outputs": [],
   "source": [
    "class Solution(object):\n",
    "    def addStrings(self, num1, num2):\n",
    "        \"\"\"\n",
    "        :type num1: str\n",
    "        :type num2: str\n",
    "        :rtype: str\n",
    "        \"\"\"\n",
    "        i=len(num1)-1\n",
    "        j=len(num2)-1\n",
    "        flag=0\n",
    "        res=\"\"\n",
    "        \n",
    "        while i>=0 or j>=0 or flag:\n",
    "          if i>=0: \n",
    "            \n",
    "            flag=flag+int(num1[i])\n",
    "            i=i-1\n",
    "          if j>=0:\n",
    "            flag=flag+int(num2[j])\n",
    "            j=j-1\n",
    "        \n",
    "          \n",
    "          res=res+str(flag%10)\n",
    "          flag=flag/10\n",
    "       \n",
    "        return res[::-1]"
   ]
  },
  {
   "cell_type": "markdown",
   "metadata": {},
   "source": [
    "# 43. Multiply Strings\n",
    "Medium\n",
    "\n",
    "\n",
    "Given two non-negative integers num1 and num2 represented as strings, return the product of num1 and num2, also represented as a string.\n",
    "\n",
    "Example 1:\n",
    "\n",
    "Input: num1 = \"2\", num2 = \"3\"\n",
    "\n",
    "Output: \"6\"\n",
    "\n",
    "Example 2:\n",
    "\n",
    "Input: num1 = \"123\", num2 = \"456\"\n",
    "\n",
    "Output: \"56088\"\n",
    "\n",
    "Note:\n",
    "\n",
    "The length of both num1 and num2 is < 110.\n",
    "Both num1 and num2 contain only digits 0-9.\n",
    "Both num1 and num2 do not contain any leading zero, except the number 0 itself.\n",
    "You must not use any built-in BigInteger library or convert the inputs to integer directly."
   ]
  },
  {
   "cell_type": "code",
   "execution_count": 4,
   "metadata": {},
   "outputs": [],
   "source": [
    "class Solution(object):\n",
    "    def multiply(self, num1, num2):\n",
    "        \"\"\"\n",
    "        :type num1: str\n",
    "        :type num2: str\n",
    "        :rtype: str\n",
    "        \"\"\"\n",
    "        m=len(num2)\n",
    "        n=len(num1)\n",
    "        result=[0]*(m+n)\n",
    "        res1=\"\"\n",
    "        num1=num1[::-1]\n",
    "        num2=num2[::-1]\n",
    "        for i in range(n):\n",
    "            for j in range(m):\n",
    "                current = int(result[i + j ]) + int(num1[i]) * int(num2[j])\n",
    "                result[i + j ] = current % 10\n",
    "                result[i + j+1] += current // 10\n",
    "        result=result[::-1]\n",
    "       \n",
    "        for i, c in enumerate(result):\n",
    "            if c != 0:\n",
    "                return \"\".join(map(str, result[i:]))\n",
    "        return '0'\n",
    "\n",
    "    "
   ]
  },
  {
   "cell_type": "code",
   "execution_count": 5,
   "metadata": {},
   "outputs": [],
   "source": [
    "class Solution(object):\n",
    "    def multiply(self, num1, num2):\n",
    "        \"\"\"\n",
    "        :type num1: str\n",
    "        :type num2: str\n",
    "        :rtype: str\n",
    "        \"\"\"\n",
    "        m=len(num2)\n",
    "        n=len(num1)\n",
    "        result=[0]*(m+n)\n",
    "        for i in reversed(range(n)):\n",
    "            for j in reversed(range(m)):\n",
    "                current = int(result[i + j+1 ]) + int(num1[i]) * int(num2[j])\n",
    "                result[i + j+1 ] = current % 10\n",
    "                result[i + j] += current // 10\n",
    "     \n",
    "       \n",
    "        for i, c in enumerate(result):\n",
    "            if c != 0:\n",
    "                return \"\".join(map(str, result[i:]))\n",
    "        return '0'\n",
    "\n",
    "    "
   ]
  },
  {
   "cell_type": "code",
   "execution_count": null,
   "metadata": {},
   "outputs": [],
   "source": []
  }
 ],
 "metadata": {
  "kernelspec": {
   "display_name": "Python 3",
   "language": "python",
   "name": "python3"
  },
  "language_info": {
   "codemirror_mode": {
    "name": "ipython",
    "version": 3
   },
   "file_extension": ".py",
   "mimetype": "text/x-python",
   "name": "python",
   "nbconvert_exporter": "python",
   "pygments_lexer": "ipython3",
   "version": "3.6.5"
  }
 },
 "nbformat": 4,
 "nbformat_minor": 2
}
