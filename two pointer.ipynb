{
 "cells": [
  {
   "cell_type": "markdown",
   "metadata": {},
   "source": [
    "# leetcode 28. Implement strStr()\n",
    "\n",
    "Implement strStr().\n",
    "\n",
    "Return the index of the first occurrence of needle in haystack, or -1 if needle is not part of haystack.\n",
    "\n",
    "Example 1:\n",
    "\n",
    "Input: haystack = \"hello\", needle = \"ll\"\n",
    "\n",
    "Output: 2\n",
    "\n",
    "Example 2:\n",
    "\n",
    "Input: haystack = \"aaaaa\", needle = \"bba\"\n",
    "\n",
    "\n",
    "Output: -1"
   ]
  },
  {
   "cell_type": "code",
   "execution_count": 1,
   "metadata": {},
   "outputs": [],
   "source": [
    "class Solution(object):\n",
    "    def strStr(self, haystack, needle):\n",
    "        \"\"\"\n",
    "        :type haystack: str\n",
    "        :type needle: str\n",
    "        :rtype: int\n",
    "        \"\"\"\n",
    "        if len(needle)>len(haystack):\n",
    "             return -1\n",
    "        if needle==haystack:\n",
    "            return 0\n",
    "        if len(needle)==0:\n",
    "             return 0\n",
    "        n=len(needle)\n",
    "        for i in range(len(haystack)-n+1):\n",
    "            if haystack[i:i+n]==needle :\n",
    "                return i\n",
    "        return -1"
   ]
  },
  {
   "cell_type": "code",
   "execution_count": null,
   "metadata": {},
   "outputs": [],
   "source": []
  }
 ],
 "metadata": {
  "kernelspec": {
   "display_name": "Python 3",
   "language": "python",
   "name": "python3"
  },
  "language_info": {
   "codemirror_mode": {
    "name": "ipython",
    "version": 3
   },
   "file_extension": ".py",
   "mimetype": "text/x-python",
   "name": "python",
   "nbconvert_exporter": "python",
   "pygments_lexer": "ipython3",
   "version": "3.6.5"
  }
 },
 "nbformat": 4,
 "nbformat_minor": 2
}
