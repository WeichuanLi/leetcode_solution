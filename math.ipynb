{
 "cells": [
  {
   "cell_type": "markdown",
   "metadata": {},
   "source": [
    "# leetcode 7. Reverse Integer\n",
    "Given a 32-bit signed integer, reverse digits of an integer.\n",
    "\n",
    "Example 1:\n",
    "\n",
    "Input: 123\n",
    "Output: 321\n",
    "Example 2:\n",
    "\n",
    "Input: -123\n",
    "Output: -321\n",
    "Example 3:\n",
    "\n",
    "Input: 120\n",
    "Output: 21\n",
    "Note:\n",
    "Assume we are dealing with an environment which could only store integers within the 32-bit signed integer range: [−231,  231 − 1]. For the purpose of this problem, assume that your function returns 0 when the reversed integer overflows.\n",
    "\n",
    "\n"
   ]
  },
  {
   "cell_type": "code",
   "execution_count": 4,
   "metadata": {},
   "outputs": [],
   "source": [
    "def reverse(x):\n",
    "        \"\"\"\n",
    "        :type x: int\n",
    "        :rtype: int\n",
    "        \"\"\"\n",
    "        res=0\n",
    "        flag=1\n",
    "        print (\"x\",x)\n",
    "        \n",
    "        if x==0:\n",
    "            return 0\n",
    "       \n",
    "        elif x<0:\n",
    "            flag=-1\n",
    "            x=-x\n",
    "        \n",
    "        while x >0 :\n",
    "            res=10*res+x%10\n",
    "            x=x//10\n",
    "        if  res > 2**31+1 or res < -2**31-1:\n",
    "         \n",
    "            return 0\n",
    "        return flag*res"
   ]
  },
  {
   "cell_type": "code",
   "execution_count": null,
   "metadata": {},
   "outputs": [],
   "source": []
  },
  {
   "cell_type": "code",
   "execution_count": null,
   "metadata": {},
   "outputs": [],
   "source": [
    "def reverse(x):\n",
    "        flag=1\n",
    "        if x<0:\n",
    "            flag=-1\n",
    "        x=flag*int(str(abs(x))[::-1])\n",
    "        if x>2**31-1 or x<-2**31+1 :\n",
    "            return 0\n",
    "        else:\n",
    "           return x"
   ]
  },
  {
   "cell_type": "markdown",
   "metadata": {},
   "source": [
    "# leetcode 9. Palindrome Number\n",
    "\n",
    "Determine whether an integer is a palindrome. An integer is a palindrome when it reads the same backward as forward.\n",
    "\n",
    "Example 1:\n",
    "\n",
    "Input: 121\n",
    "Output: true\n",
    "Example 2:\n",
    "\n",
    "Input: -121\n",
    "Output: false\n",
    "Explanation: From left to right, it reads -121. From right to left, it becomes 121-. Therefore it is not a palindrome.\n",
    "Example 3:\n",
    "\n",
    "Input: 10\n",
    "Output: false\n",
    "Explanation: Reads 01 from right to left. Therefore it is not a palindrome.\n"
   ]
  },
  {
   "cell_type": "code",
   "execution_count": 6,
   "metadata": {},
   "outputs": [],
   "source": [
    "def isPalindrome(x):\n",
    "        \"\"\"\n",
    "        :type x: int\n",
    "        :rtype: bool\n",
    "        \"\"\"\n",
    "        \n",
    "        res=0\n",
    "        while x >0 :\n",
    "            res=10*res+x%10\n",
    "            x=x//10\n",
    "  \n",
    "        return  x==res"
   ]
  },
  {
   "cell_type": "code",
   "execution_count": 7,
   "metadata": {},
   "outputs": [],
   "source": [
    "def isPalindrome(x):\n",
    "        if x< 0:\n",
    "            return False\n",
    "        return str(x)==str(x)[::-1]"
   ]
  },
  {
   "cell_type": "code",
   "execution_count": null,
   "metadata": {},
   "outputs": [],
   "source": [
    "def isPalindrome(x):\n",
    "        if x< 0:\n",
    "            return False\n",
    "        \n",
    "        s=str(x)\n",
    "        s1=list(reversed(s))\n",
    "        for i in range(len(s1)):\n",
    "            if s1[i]!=s[i]:\n",
    "                return False\n",
    "        return True"
   ]
  },
  {
   "cell_type": "markdown",
   "metadata": {},
   "source": [
    "# 263. Ugly Number\n",
    "\n",
    "Write a program to check whether a given number is an ugly number.\n",
    "\n",
    "Ugly numbers are positive numbers whose prime factors only include 2, 3, 5.\n",
    "\n",
    "Example 1:\n",
    "\n",
    "Input: 6\n",
    "Output: true\n",
    "Explanation: 6 = 2 × 3\n",
    "Example 2:\n",
    "\n",
    "Input: 8\n",
    "Output: true\n",
    "Explanation: 8 = 2 × 2 × 2\n",
    "Example 3:\n",
    "\n",
    "Input: 14\n",
    "Output: false \n",
    "Explanation: 14 is not ugly since it includes another prime factor 7.\n"
   ]
  },
  {
   "cell_type": "code",
   "execution_count": 2,
   "metadata": {},
   "outputs": [],
   "source": [
    " def isUgly( num):\n",
    "        \"\"\"\n",
    "        :type num: int\n",
    "        :rtype: bool\n",
    "        \"\"\"\n",
    "      \n",
    "        if num<1:\n",
    "            return False\n",
    "        \n",
    "        while num%2==0:\n",
    "            \n",
    "            num=num/2\n",
    "            print (\"num \",num)\n",
    "        while num%5==0:\n",
    "            num=num/5\n",
    "            print (\"num \",num)\n",
    "        while num%3==0:\n",
    "            num=num/3\n",
    "            print (\"num \",num)\n",
    "        return num==1"
   ]
  },
  {
   "cell_type": "code",
   "execution_count": null,
   "metadata": {},
   "outputs": [],
   "source": [
    " def isUgly( num):\n",
    "        if num<1:\n",
    "            return False\n",
    "        \n",
    "        list=[2,3,5]\n",
    "        for i in list:\n",
    "            while num%i==0:\n",
    "                num=num/i\n",
    "        return num==1"
   ]
  },
  {
   "cell_type": "markdown",
   "metadata": {},
   "source": [
    "# 507. Perfect Number\n",
    "\n",
    "We define the Perfect Number is a positive integer that is equal to the sum of all its positive divisors except itself.\n",
    "\n",
    "Now, given an integer n, write a function that returns true when it is a perfect number and false when it is not.\n",
    "\n",
    "Example:\n",
    "\n",
    "Input: 28\n",
    "\n",
    "Output: True\n",
    "\n",
    "Explanation: 28 = 1 + 2 + 4 + 7 + 14"
   ]
  },
  {
   "cell_type": "code",
   "execution_count": 4,
   "metadata": {},
   "outputs": [],
   "source": [
    "def checkPerfectNumber(num):\n",
    "        \"\"\"\n",
    "        :type num: int\n",
    "        :rtype: bool\n",
    "        \"\"\"\n",
    "        if num <0:\n",
    "            return False\n",
    "        if num==1:\n",
    "            return False\n",
    "        ll=set()\n",
    "        ll.add(1)\n",
    "      #  print int(num**0.5)\n",
    "        for i in xrange(2,int(num**0.5)+1):\n",
    "          #  print i\n",
    "            if num%i==0 :\n",
    "                ll.add(i)\n",
    "                ll.add(num/i)\n",
    "      #  print ll\n",
    "      #  print sum(ll)\n",
    "      #  return sum(ll)\n",
    "        return sum(ll)==num"
   ]
  },
  {
   "cell_type": "markdown",
   "metadata": {},
   "source": [
    "# leetcode 541. Reverse String II\n",
    "\n",
    "Given a string and an integer k, you need to reverse the first k characters for every 2k characters counting from the start of the string. If there are less than k characters left, reverse all of them. If there are less than 2k but greater than or equal to k characters, then reverse the first k characters and left the other as original.\n",
    "\n",
    "Example:\n",
    "\n",
    "Input: s = \"abcdefg\", k = 2\n",
    "\n",
    "Output: \"bacdfeg\"\n"
   ]
  },
  {
   "cell_type": "code",
   "execution_count": 5,
   "metadata": {},
   "outputs": [],
   "source": [
    " def reverseStr( s, k):\n",
    "        \"\"\"\n",
    "        :type s: str\n",
    "        :type k: int\n",
    "        :rtype: str\n",
    "        \"\"\"\n",
    "        list1=list(s)\n",
    "        #print list1\n",
    "        length=len(list1)\n",
    "        len2=2*k\n",
    "        list2=[]\n",
    "        if length < k :\n",
    "            list2=list1[::-1]\n",
    "            return ''.join(list2)\n",
    "        if  k <= length< len2:\n",
    "            list2=list1[0:k][::-1]+list1[k:length]\n",
    "            return ''.join(list2)\n",
    "        sum=2*k\n",
    "        n=1\n",
    "        list2=list1[0:k*n][::-1]+list1[k*n:2*k*n]\n",
    "        while (sum<length):\n",
    "            list2=list2+list1[2*k*n:(2*n+1)*k][::-1]+list1[(2*n+1)*k:(2*n+2)*k]\n",
    "            sum=sum+2*k\n",
    "            n=n+1\n",
    "        return ''.join(list2+list1[sum:length])"
   ]
  },
  {
   "cell_type": "code",
   "execution_count": 7,
   "metadata": {},
   "outputs": [],
   "source": [
    "def reverseStr( s, k):\n",
    "        \"\"\"\n",
    "        :type s: str\n",
    "        :type k: int\n",
    "        :rtype: str\n",
    "        \"\"\"\n",
    "        a = list(s)\n",
    "        for i in xrange(0, len(a), 2*k):\n",
    "           # print i \n",
    "            a[i:i+k] = reversed(a[i:i+k])\n",
    "        return \"\".join(a)"
   ]
  },
  {
   "cell_type": "code",
   "execution_count": null,
   "metadata": {},
   "outputs": [],
   "source": [
    "def quicksort(A):\n",
    "    \n",
    "    \n",
    "    \n",
    "    \n",
    "test:\n",
    "    \n",
    "A = [1,5,3,7,2,8]\n",
    "\n",
    "print(quicksort(A))"
   ]
  },
  {
   "cell_type": "markdown",
   "metadata": {},
   "source": [
    "# 186. Reverse Words in a String II\n",
    "\n",
    "Given an input string , reverse the string word by word. \n",
    "\n",
    "Example:\n",
    "\n",
    "Input:  [\"t\",\"h\",\"e\",\" \",\"s\",\"k\",\"y\",\" \",\"i\",\"s\",\" \",\"b\",\"l\",\"u\",\"e\"]\n",
    "\n",
    "Output: [\"b\",\"l\",\"u\",\"e\",\" \",\"i\",\"s\",\" \",\"s\",\"k\",\"y\",\" \",\"t\",\"h\",\"e\"]\n",
    "Note: \n",
    "\n",
    "A word is defined as a sequence of non-space characters.\n",
    "The input string does not contain leading or trailing spaces.\n",
    "The words are always separated by a single space.\n",
    "Follow up: Could you do it in-place without allocating extra space?"
   ]
  },
  {
   "cell_type": "code",
   "execution_count": 3,
   "metadata": {},
   "outputs": [],
   "source": [
    "class Solution(object):\n",
    "    def reverseWords(self, s):\n",
    "        \"\"\"\n",
    "        :type s: List[str]\n",
    "        :rtype: None Do not return anything, modify s in-place instead.\n",
    "        \"\"\"\n",
    "        str_list = ''.join(s).split(' ')\n",
    "        str_list.reverse()\n",
    "        ans = ' '.join(str_list)\n",
    "        s[:] = list(ans)"
   ]
  },
  {
   "cell_type": "code",
   "execution_count": 4,
   "metadata": {},
   "outputs": [],
   "source": [
    "class Solution(object):\n",
    "    def reverseWords(self, s):\n",
    "        \"\"\"\n",
    "        :type s: List[str]\n",
    "        :rtype: None Do not return anything, modify s in-place instead.\n",
    "        \"\"\"\n",
    " \n",
    "        inputWords = ''.join(s).split(\" \") \n",
    "        inputWords=inputWords[::-1]\n",
    "        output = ' '.join(inputWords) \n",
    "        s[:]=output "
   ]
  },
  {
   "cell_type": "code",
   "execution_count": null,
   "metadata": {},
   "outputs": [],
   "source": [
    "class Solution(object):\n",
    "    def reverseWords(self, s):\n",
    "        \"\"\"\n",
    "        :type s: List[str]\n",
    "        :rtype: None Do not return anything, modify s in-place instead.\n",
    "        \"\"\"\n",
    " \n",
    "       \n",
    "        def reverse(lst,start,end):\n",
    "            i,j=start,end\n",
    "            while i<j:\n",
    "                lst[i],lst[j] = lst[j],lst[i]\n",
    "                i += 1\n",
    "                j -= 1\n",
    "            return lst\n",
    "        reverse(s,0,len(s)-1)\n",
    "       # print s\n",
    "        fast=0\n",
    "        slow=0\n",
    "        while fast<len(s):\n",
    "            if s[fast]==\" \":\n",
    "                reverse(s,slow,fast-1)\n",
    "                slow=fast+1\n",
    "            elif fast == len(s)-1:\n",
    "                reverse(s, slow, fast)\n",
    "            fast=fast+1"
   ]
  },
  {
   "cell_type": "markdown",
   "metadata": {},
   "source": [
    "# 326. Power of Three\n",
    "Easy\n",
    "\n",
    "Given an integer, write a function to determine if it is a power of three.\n",
    "\n",
    "Example 1:\n",
    "\n",
    "Input: 27\n",
    "Output: true\n",
    "Example 2:\n",
    "\n",
    "Input: 0\n",
    "Output: false\n",
    "Example 3:\n",
    "\n",
    "Input: 9\n",
    "Output: true\n",
    "Example 4:\n",
    "\n",
    "Input: 45\n",
    "Output: false\n",
    "Follow up:\n",
    "Could you do it without using any loop / recursion?\n",
    "\n"
   ]
  },
  {
   "cell_type": "code",
   "execution_count": 5,
   "metadata": {},
   "outputs": [],
   "source": [
    "class Solution(object):\n",
    "    def isPowerOfThree(self, n):\n",
    "        \"\"\"\n",
    "        :type n: int\n",
    "        :rtype: bool\n",
    "        \"\"\"\n",
    "        if n<1 :\n",
    "          return False\n",
    "        while  n% 3 ==0:\n",
    "              n=n/3\n",
    "        return n==1"
   ]
  },
  {
   "cell_type": "code",
   "execution_count": 6,
   "metadata": {},
   "outputs": [],
   "source": [
    "class Solution(object):\n",
    "    def isPowerOfThree(self, n):\n",
    "        \"\"\"\n",
    "        :type n: int\n",
    "        :rtype: bool\n",
    "        \"\"\"\n",
    "        \n",
    "        return n>0 and int(math.log10(n)/math.log10(3))-(math.log10(n)/math.log10(3))==0"
   ]
  },
  {
   "cell_type": "code",
   "execution_count": null,
   "metadata": {},
   "outputs": [],
   "source": []
  }
 ],
 "metadata": {
  "kernelspec": {
   "display_name": "Python 3",
   "language": "python",
   "name": "python3"
  },
  "language_info": {
   "codemirror_mode": {
    "name": "ipython",
    "version": 3
   },
   "file_extension": ".py",
   "mimetype": "text/x-python",
   "name": "python",
   "nbconvert_exporter": "python",
   "pygments_lexer": "ipython3",
   "version": "3.6.5"
  }
 },
 "nbformat": 4,
 "nbformat_minor": 2
}
