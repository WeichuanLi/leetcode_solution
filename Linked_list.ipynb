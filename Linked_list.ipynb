{
 "cells": [
  {
   "cell_type": "markdown",
   "metadata": {},
   "source": [
    "# leetcode 83. Remove Duplicates from Sorted List\n",
    "Given a sorted linked list, delete all duplicates such that each element appear only once.\n",
    "\n",
    "Example 1:\n",
    "\n",
    "Input: 1->1->2\n",
    "Output: 1->2\n",
    "Example 2:\n",
    "\n",
    "Input: 1->1->2->3->3\n",
    "Output: 1->2->3\n",
    " "
   ]
  },
  {
   "cell_type": "code",
   "execution_count": 1,
   "metadata": {},
   "outputs": [],
   "source": [
    "def deleteDuplicates(head):\n",
    "        \"\"\"\n",
    "        :type head: ListNode\n",
    "        :rtype: ListNode\n",
    "        \"\"\"\n",
    "        if head == None:\n",
    "            return head\n",
    "        pre=head\n",
    "        current=head.next\n",
    "        while current:\n",
    "            if pre.val==current.val:\n",
    "                pre.next=current.next\n",
    "             \n",
    "                current=current.next\n",
    "            else:\n",
    "                pre=pre.next\n",
    "                current=current.next\n",
    "        return head"
   ]
  },
  {
   "cell_type": "markdown",
   "metadata": {},
   "source": [
    "# leetcode 206. Reverse Linked List\n",
    "Reverse a singly linked list.\n",
    "\n",
    "Example:\n",
    "\n",
    "Input: 1->2->3->4->5->NULL\n",
    "Output: 5->4->3->2->1->NULL\n",
    "Follow up:"
   ]
  },
  {
   "cell_type": "code",
   "execution_count": null,
   "metadata": {},
   "outputs": [],
   "source": [
    "def reverseList( head):\n",
    "        node=head\n",
    "        #while node is not None:\n",
    "        while node:\n",
    "            print node.val\n",
    "            node=node.next\n",
    "        pre=None\n",
    "        current=head\n",
    "       # while current is not None:\n",
    "        while current:\n",
    "            next=current.next\n",
    "            current.next=pre\n",
    "            pre=current\n",
    "            current=next\n",
    "        return pre"
   ]
  },
  {
   "cell_type": "markdown",
   "metadata": {},
   "source": [
    "# leetcode 203. Remove Linked List Elements\n",
    "\n",
    "Remove all elements from a linked list of integers that have value val.\n",
    "\n",
    "Example:\n",
    "\n",
    "Input:  1->2->6->3->4->5->6, val = 6\n",
    "Output: 1->2->3->4->5"
   ]
  },
  {
   "cell_type": "code",
   "execution_count": 2,
   "metadata": {},
   "outputs": [],
   "source": [
    "def removeElements(head, val):\n",
    "        while head and head.val==val:\n",
    "                  head=head.next\n",
    "       \n",
    "        if head is None:\n",
    "                return head\n",
    "        pre=head\n",
    "        while pre.next :\n",
    "                current=pre.next\n",
    "                if current.val==val:\n",
    "                   next=current.next\n",
    "                   current=pre\n",
    "                   current.next=next\n",
    "                else:\n",
    "                  pre=current\n",
    "                  current=current.next\n",
    "        return head\n",
    "        "
   ]
  },
  {
   "cell_type": "markdown",
   "metadata": {},
   "source": [
    "# leetcode 21. Merge Two Sorted Lists\n",
    "Merge two sorted linked lists and return it as a new list. The new list should be made by splicing together the nodes of the first two lists.\n",
    "\n",
    "Example:\n",
    "\n",
    "Input: 1->2->4, 1->3->4\n",
    "\n",
    "Output: 1->1->2->3->4->4"
   ]
  },
  {
   "cell_type": "code",
   "execution_count": 3,
   "metadata": {},
   "outputs": [],
   "source": [
    "def mergeTwoLists( l1, l2):\n",
    "        \"\"\"\n",
    "        :type l1: ListNode\n",
    "        :type l2: ListNode\n",
    "        :rtype: ListNode\n",
    "        \"\"\"\n",
    "        if l1 is None:\n",
    "             return l2\n",
    "        if l2 is None:\n",
    "             return l1\n",
    "              \n",
    "        elif l1.val<l2.val:\n",
    "         \n",
    "            l1.next=self.mergeTwoLists(l1.next,l2)\n",
    "       \n",
    "            return l1\n",
    "        else:\n",
    "            l2.next=self.mergeTwoLists(l2.next,l1)\n",
    "        \n",
    "            return l2"
   ]
  },
  {
   "cell_type": "code",
   "execution_count": 4,
   "metadata": {},
   "outputs": [],
   "source": [
    "def mergeTwoLists( l1, l2):\n",
    "        if l1 is None:\n",
    "              return l2\n",
    "        if l2 is None:\n",
    "              return l1\n",
    "        small,large= (l1,l2) if l1.val < l2.val else (l2,l1)\n",
    "        #if l1.val< l2.val:\n",
    "          #      small,large=l1,l2\n",
    "      #  else:\n",
    "              #  small,large=l2,l1\n",
    "        head=small\n",
    "        while small.next is not None:\n",
    "             if small.next.val > large.val:\n",
    "                    small.next,large=large,small.next\n",
    "                    \n",
    "             small=small.next\n",
    "        small.next=large\n",
    "        return head"
   ]
  },
  {
   "cell_type": "code",
   "execution_count": null,
   "metadata": {},
   "outputs": [],
   "source": []
  }
 ],
 "metadata": {
  "kernelspec": {
   "display_name": "Python 3",
   "language": "python",
   "name": "python3"
  },
  "language_info": {
   "codemirror_mode": {
    "name": "ipython",
    "version": 3
   },
   "file_extension": ".py",
   "mimetype": "text/x-python",
   "name": "python",
   "nbconvert_exporter": "python",
   "pygments_lexer": "ipython3",
   "version": "3.6.5"
  }
 },
 "nbformat": 4,
 "nbformat_minor": 2
}
